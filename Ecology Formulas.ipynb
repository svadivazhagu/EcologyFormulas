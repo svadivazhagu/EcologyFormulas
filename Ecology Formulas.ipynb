{
 "cells": [
  {
   "cell_type": "code",
   "execution_count": 2,
   "metadata": {},
   "outputs": [
    {
     "name": "stdout",
     "output_type": "stream",
     "text": [
      "66.34789214339803\n"
     ]
    }
   ],
   "source": [
    "#Evapotranspiration : Sum of transpiration and evaporation; Total amt of water leaving ground and going to atmosphere. \n",
    "\n",
    "#Potential Evapotranspiration, Max possible evapotranspiration at some temp\n",
    "def PotEvap(temp):\n",
    "    return 2*temp\n",
    "\n",
    "#Actual Evapotranspiration\n",
    "def ActEvap(precip, temp):\n",
    "    if PotEvap(temp) < precip:\n",
    "        return PotEvap(temp)\n",
    "    return precip\n",
    "\n",
    "def AbsorbRad(exp_area, solar_rad, absorp):\n",
    "    \"\"\"\n",
    "    Returns Absorbed Radiation, the heat gain (watts) for an organism exposed to solar radiation\n",
    "    \n",
    "    Parameters:\n",
    "        Exposed Area\n",
    "        Solar Radiation\n",
    "        Absorption\n",
    "    \"\"\"\n",
    "    return exp_area * solar_rad * absorp\n",
    "\n",
    "def MetabHeat(mass):\n",
    "    \"\"\"\n",
    "    Returns Metabolic Heat, aka Basal Metabolic Rate, Rate at which organism produces energy while resting.\n",
    "    FOR BIRDS AND MAMMALS\n",
    "    \n",
    "    Parameters:\n",
    "        Mass (grams)\n",
    "    \"\"\"\n",
    "    return 0.03 * (mass**0.7)\n",
    "\n",
    "\n",
    "\n",
    "def Conduction(cond, t1, t2, sa):\n",
    "    \"\"\"\n",
    "    Returns Conduction, the movement of heat directly from 1 object to another (ex: rat to the ground)\n",
    "    \n",
    "    Parameters:\n",
    "        Conductivity \n",
    "        Temp 1 (kelvin)\n",
    "        Temp 2 (kelvin)\n",
    "        Surface Area\n",
    "    \"\"\"\n",
    "    return (cond * (t1-t2) * sa)\n",
    "\n",
    "\n",
    "def HeatBal(ab_ra, met_he, re_rad, he_cond, he_conv, evap_he):\n",
    "    \"\"\"\n",
    "    Returns Net Heat Gain, Calculated as the sum all the ways in which individual can gain/lose heat. (watts)\n",
    "    \n",
    "    Parameters:\n",
    "        ab_ra Absorbed Radiation (ex. from Sun)\n",
    "        met_he Metabolic Heat\n",
    "        re_rad Re-Radiated Heat which is lost\n",
    "        he_cond Heat gained/lost via conduction\n",
    "        he_conv Heat gained/lost via convection\n",
    "        evap_he Evaporative heat which is lost\n",
    "    \"\"\"\n",
    "    return ab_ra + met_he - re_rad + he_cond + he_conv - evap_he\n",
    "\n",
    "def WatBal(wd, wf, wa, we, ws):\n",
    "    \"\"\"\n",
    "    Returns Water Balance, how organisms balance water inputs and outputs in order to maintain adequate body water content\n",
    "    \n",
    "    Parameters:\n",
    "        wd Water gained by Ingestion (drinking)\n",
    "        wf Water gained from the metabolism of carbs\n",
    "        wa Water gained through absorption, via surface contact w/ water (important for aquatic organisms)\n",
    "        we Water lost through evaporation (sweating in animals, transpiration in plants)\n",
    "        ws Water lost through secretion (pee/poo) More important for animals than plants as plants reuse very well            \n",
    "    \"\"\"\n",
    "    return wd + wf + wa - we - ws\n",
    "\n",
    "print(MetabHeat(60000))\n"
   ]
  },
  {
   "cell_type": "markdown",
   "metadata": {},
   "source": [
    "<h1> Growth Functions:\n",
    "    - Geometric Growth\n",
    "    - Exponential Growth\n",
    "    - Logistic Growth"
   ]
  },
  {
   "cell_type": "code",
   "execution_count": 14,
   "metadata": {},
   "outputs": [
    {
     "data": {
      "text/plain": [
       "5.143355250013928"
      ]
     },
     "execution_count": 14,
     "metadata": {},
     "output_type": "execute_result"
    }
   ],
   "source": [
    "from math import exp\n",
    "from numpy import log \n",
    "\n",
    "def finRateIncr(past, future):\n",
    "    return (future / past)\n",
    "\n",
    "\n",
    "def ExpoGrow(tstep, n_orig, r):\n",
    "    return n_orig * (exp(r * tstep))\n",
    "\n",
    "def DoubTime(r):\n",
    "    return log(2) / r\n",
    "    \n",
    "def PopSize(n_0, r, t):\n",
    "    return n_0 *(exp(r*t))\n",
    "    \n",
    "def IntrGrow(lamb=0, past=0, future = 0):\n",
    "    if lamb != 0:\n",
    "        return log(lamb)\n",
    "    else:\n",
    "        return log(finRateIncr(past, future))\n",
    "\n",
    "DoubTime(IntrGrow(lamb=1.011))\n",
    "\n",
    "PopSize(0.25, 0.063, 48)\n"
   ]
  },
  {
   "cell_type": "code",
   "execution_count": null,
   "metadata": {},
   "outputs": [],
   "source": [
    "\n"
   ]
  }
 ],
 "metadata": {
  "kernelspec": {
   "display_name": "Python 3",
   "language": "python",
   "name": "python3"
  },
  "language_info": {
   "codemirror_mode": {
    "name": "ipython",
    "version": 3
   },
   "file_extension": ".py",
   "mimetype": "text/x-python",
   "name": "python",
   "nbconvert_exporter": "python",
   "pygments_lexer": "ipython3",
   "version": "3.7.0"
  }
 },
 "nbformat": 4,
 "nbformat_minor": 2
}
